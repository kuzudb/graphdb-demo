{
 "cells": [
  {
   "cell_type": "markdown",
   "metadata": {},
   "source": [
    "# Part 1: Interoperability\n",
    "\n",
    "This notebook walks through some of the interoperability aspects of data modelling when using Kùzu\n",
    "with structured data. The typical workflow is to explore any existing columnar data via a DataFrame\n",
    "library, or using SQL in DuckDB to study the data. It can then be modelled as a graph by seamlessly\n",
    "moving between the various formats.\n",
    "\n",
    "We will first fix issues with the column headers in the raw data and do an inspection using Pandas."
   ]
  },
  {
   "cell_type": "code",
   "execution_count": 17,
   "metadata": {},
   "outputs": [
    {
     "data": {
      "text/plain": [
       "['',\n",
       " 'country',\n",
       " 'description',\n",
       " 'designation',\n",
       " 'points',\n",
       " 'price',\n",
       " 'province',\n",
       " 'region_1',\n",
       " 'region_2',\n",
       " 'taster_name',\n",
       " 'taster_twitter_handle',\n",
       " 'title',\n",
       " 'variety',\n",
       " 'winery']"
      ]
     },
     "execution_count": 17,
     "metadata": {},
     "output_type": "execute_result"
    }
   ],
   "source": [
    "import polars as pl\n",
    "\n",
    "df = pl.read_csv(\"winemag-data-130k-v2.csv\")\n",
    "df.columns"
   ]
  },
  {
   "cell_type": "markdown",
   "metadata": {},
   "source": [
    "We can see that the first column has a blank header - this needs to be replaced so that we can use it\n",
    "within DuckDB or Kùzu downstream."
   ]
  },
  {
   "cell_type": "code",
   "execution_count": 18,
   "metadata": {},
   "outputs": [
    {
     "data": {
      "text/html": [
       "<div><style>\n",
       ".dataframe > thead > tr,\n",
       ".dataframe > tbody > tr {\n",
       "  text-align: right;\n",
       "  white-space: pre-wrap;\n",
       "}\n",
       "</style>\n",
       "<small>shape: (5, 14)</small><table border=\"1\" class=\"dataframe\"><thead><tr><th>id</th><th>country</th><th>description</th><th>designation</th><th>points</th><th>price</th><th>province</th><th>region_1</th><th>region_2</th><th>taster_name</th><th>taster_twitter_handle</th><th>title</th><th>variety</th><th>winery</th></tr><tr><td>i64</td><td>str</td><td>str</td><td>str</td><td>i64</td><td>f64</td><td>str</td><td>str</td><td>str</td><td>str</td><td>str</td><td>str</td><td>str</td><td>str</td></tr></thead><tbody><tr><td>0</td><td>&quot;Italy&quot;</td><td>&quot;Aromas include tropical fruit,…</td><td>&quot;Vulkà Bianco&quot;</td><td>87</td><td>null</td><td>&quot;Sicily &amp; Sardinia&quot;</td><td>&quot;Etna&quot;</td><td>null</td><td>&quot;Kerin O’Keefe&quot;</td><td>&quot;@kerinokeefe&quot;</td><td>&quot;Nicosia 2013 Vulkà Bianco  (Et…</td><td>&quot;White Blend&quot;</td><td>&quot;Nicosia&quot;</td></tr><tr><td>1</td><td>&quot;Portugal&quot;</td><td>&quot;This is ripe and fruity, a win…</td><td>&quot;Avidagos&quot;</td><td>87</td><td>15.0</td><td>&quot;Douro&quot;</td><td>null</td><td>null</td><td>&quot;Roger Voss&quot;</td><td>&quot;@vossroger&quot;</td><td>&quot;Quinta dos Avidagos 2011 Avida…</td><td>&quot;Portuguese Red&quot;</td><td>&quot;Quinta dos Avidagos&quot;</td></tr><tr><td>2</td><td>&quot;US&quot;</td><td>&quot;Tart and snappy, the flavors o…</td><td>null</td><td>87</td><td>14.0</td><td>&quot;Oregon&quot;</td><td>&quot;Willamette Valley&quot;</td><td>&quot;Willamette Valley&quot;</td><td>&quot;Paul Gregutt&quot;</td><td>&quot;@paulgwine &quot;</td><td>&quot;Rainstorm 2013 Pinot Gris (Wil…</td><td>&quot;Pinot Gris&quot;</td><td>&quot;Rainstorm&quot;</td></tr><tr><td>3</td><td>&quot;US&quot;</td><td>&quot;Pineapple rind, lemon pith and…</td><td>&quot;Reserve Late Harvest&quot;</td><td>87</td><td>13.0</td><td>&quot;Michigan&quot;</td><td>&quot;Lake Michigan Shore&quot;</td><td>null</td><td>&quot;Alexander Peartree&quot;</td><td>null</td><td>&quot;St. Julian 2013 Reserve Late H…</td><td>&quot;Riesling&quot;</td><td>&quot;St. Julian&quot;</td></tr><tr><td>4</td><td>&quot;US&quot;</td><td>&quot;Much like the regular bottling…</td><td>&quot;Vintner&#x27;s Reserve Wild Child B…</td><td>87</td><td>65.0</td><td>&quot;Oregon&quot;</td><td>&quot;Willamette Valley&quot;</td><td>&quot;Willamette Valley&quot;</td><td>&quot;Paul Gregutt&quot;</td><td>&quot;@paulgwine &quot;</td><td>&quot;Sweet Cheeks 2012 Vintner&#x27;s Re…</td><td>&quot;Pinot Noir&quot;</td><td>&quot;Sweet Cheeks&quot;</td></tr></tbody></table></div>"
      ],
      "text/plain": [
       "shape: (5, 14)\n",
       "┌─────┬──────────┬────────────┬────────────┬───┬────────────┬────────────┬────────────┬────────────┐\n",
       "│ id  ┆ country  ┆ descriptio ┆ designatio ┆ … ┆ taster_twi ┆ title      ┆ variety    ┆ winery     │\n",
       "│ --- ┆ ---      ┆ n          ┆ n          ┆   ┆ tter_handl ┆ ---        ┆ ---        ┆ ---        │\n",
       "│ i64 ┆ str      ┆ ---        ┆ ---        ┆   ┆ e          ┆ str        ┆ str        ┆ str        │\n",
       "│     ┆          ┆ str        ┆ str        ┆   ┆ ---        ┆            ┆            ┆            │\n",
       "│     ┆          ┆            ┆            ┆   ┆ str        ┆            ┆            ┆            │\n",
       "╞═════╪══════════╪════════════╪════════════╪═══╪════════════╪════════════╪════════════╪════════════╡\n",
       "│ 0   ┆ Italy    ┆ Aromas     ┆ Vulkà      ┆ … ┆ @kerinokee ┆ Nicosia    ┆ White      ┆ Nicosia    │\n",
       "│     ┆          ┆ include    ┆ Bianco     ┆   ┆ fe         ┆ 2013 Vulkà ┆ Blend      ┆            │\n",
       "│     ┆          ┆ tropical   ┆            ┆   ┆            ┆ Bianco     ┆            ┆            │\n",
       "│     ┆          ┆ fruit,…    ┆            ┆   ┆            ┆ (Et…       ┆            ┆            │\n",
       "│ 1   ┆ Portugal ┆ This is    ┆ Avidagos   ┆ … ┆ @vossroger ┆ Quinta dos ┆ Portuguese ┆ Quinta dos │\n",
       "│     ┆          ┆ ripe and   ┆            ┆   ┆            ┆ Avidagos   ┆ Red        ┆ Avidagos   │\n",
       "│     ┆          ┆ fruity, a  ┆            ┆   ┆            ┆ 2011       ┆            ┆            │\n",
       "│     ┆          ┆ win…       ┆            ┆   ┆            ┆ Avida…     ┆            ┆            │\n",
       "│ 2   ┆ US       ┆ Tart and   ┆ null       ┆ … ┆ @paulgwine ┆ Rainstorm  ┆ Pinot Gris ┆ Rainstorm  │\n",
       "│     ┆          ┆ snappy,    ┆            ┆   ┆            ┆ 2013 Pinot ┆            ┆            │\n",
       "│     ┆          ┆ the        ┆            ┆   ┆            ┆ Gris (Wil… ┆            ┆            │\n",
       "│     ┆          ┆ flavors o… ┆            ┆   ┆            ┆            ┆            ┆            │\n",
       "│ 3   ┆ US       ┆ Pineapple  ┆ Reserve    ┆ … ┆ null       ┆ St. Julian ┆ Riesling   ┆ St. Julian │\n",
       "│     ┆          ┆ rind,      ┆ Late       ┆   ┆            ┆ 2013       ┆            ┆            │\n",
       "│     ┆          ┆ lemon pith ┆ Harvest    ┆   ┆            ┆ Reserve    ┆            ┆            │\n",
       "│     ┆          ┆ and…       ┆            ┆   ┆            ┆ Late H…    ┆            ┆            │\n",
       "│ 4   ┆ US       ┆ Much like  ┆ Vintner's  ┆ … ┆ @paulgwine ┆ Sweet      ┆ Pinot Noir ┆ Sweet      │\n",
       "│     ┆          ┆ the        ┆ Reserve    ┆   ┆            ┆ Cheeks     ┆            ┆ Cheeks     │\n",
       "│     ┆          ┆ regular    ┆ Wild Child ┆   ┆            ┆ 2012       ┆            ┆            │\n",
       "│     ┆          ┆ bottling…  ┆ B…         ┆   ┆            ┆ Vintner's  ┆            ┆            │\n",
       "│     ┆          ┆            ┆            ┆   ┆            ┆ Re…        ┆            ┆            │\n",
       "└─────┴──────────┴────────────┴────────────┴───┴────────────┴────────────┴────────────┴────────────┘"
      ]
     },
     "execution_count": 18,
     "metadata": {},
     "output_type": "execute_result"
    }
   ],
   "source": [
    "# Rename the unnamed column to id\n",
    "df = df.rename({\"\": \"id\"})\n",
    "df.head()"
   ]
  },
  {
   "cell_type": "markdown",
   "metadata": {},
   "source": [
    "We can inspect the shape of the DataFrame to see that we have scanned the full dataset. There are\n",
    "14 columns, not all of which are useful for the analysis downstream."
   ]
  },
  {
   "cell_type": "code",
   "execution_count": 19,
   "metadata": {},
   "outputs": [
    {
     "data": {
      "text/plain": [
       "(129971, 14)"
      ]
     },
     "execution_count": 19,
     "metadata": {},
     "output_type": "execute_result"
    }
   ],
   "source": [
    "df.shape"
   ]
  },
  {
   "cell_type": "markdown",
   "metadata": {},
   "source": [
    "The `description` column is the one that contains the reviews for each wine. We can see some samples below."
   ]
  },
  {
   "cell_type": "code",
   "execution_count": 20,
   "metadata": {},
   "outputs": [
    {
     "data": {
      "text/plain": [
       "[\"Aromas include tropical fruit, broom, brimstone and dried herb. The palate isn't overly expressive, offering unripened apple, citrus and dried sage alongside brisk acidity.\",\n",
       " \"This is ripe and fruity, a wine that is smooth while still structured. Firm tannins are filled out with juicy red berry fruits and freshened with acidity. It's  already drinkable, although it will certainly be better from 2016.\",\n",
       " 'Tart and snappy, the flavors of lime flesh and rind dominate. Some green pineapple pokes through, with crisp acidity underscoring the flavors. The wine was all stainless-steel fermented.',\n",
       " 'Pineapple rind, lemon pith and orange blossom start off the aromas. The palate is a bit more opulent, with notes of honey-drizzled guava and mango giving way to a slightly astringent, semidry finish.',\n",
       " \"Much like the regular bottling from 2012, this comes across as rather rough and tannic, with rustic, earthy, herbal characteristics. Nonetheless, if you think of it as a pleasantly unfussy country wine, it's a good companion to a hearty winter stew.\"]"
      ]
     },
     "execution_count": 20,
     "metadata": {},
     "output_type": "execute_result"
    }
   ],
   "source": [
    "df[0:5][\"description\"].to_list()"
   ]
  },
  {
   "cell_type": "markdown",
   "metadata": {},
   "source": [
    "## Subset the raw data\n",
    "The next step is to subset the data to only include the columns that are useful for the analysis. We can\n",
    "then proceed to using a persistent database, any of DuckDB, Kùzu or LanceDB to store the data."
   ]
  },
  {
   "cell_type": "code",
   "execution_count": 21,
   "metadata": {},
   "outputs": [
    {
     "data": {
      "text/html": [
       "<div><style>\n",
       ".dataframe > thead > tr,\n",
       ".dataframe > tbody > tr {\n",
       "  text-align: right;\n",
       "  white-space: pre-wrap;\n",
       "}\n",
       "</style>\n",
       "<small>shape: (5, 10)</small><table border=\"1\" class=\"dataframe\"><thead><tr><th>id</th><th>title</th><th>country</th><th>description</th><th>variety</th><th>points</th><th>price</th><th>region_1</th><th>taster_name</th><th>taster_twitter_handle</th></tr><tr><td>i64</td><td>str</td><td>str</td><td>str</td><td>str</td><td>i64</td><td>f64</td><td>str</td><td>str</td><td>str</td></tr></thead><tbody><tr><td>0</td><td>&quot;Nicosia 2013 Vulkà Bianco  (Et…</td><td>&quot;Italy&quot;</td><td>&quot;Aromas include tropical fruit,…</td><td>&quot;White Blend&quot;</td><td>87</td><td>null</td><td>&quot;Etna&quot;</td><td>&quot;Kerin O’Keefe&quot;</td><td>&quot;@kerinokeefe&quot;</td></tr><tr><td>1</td><td>&quot;Quinta dos Avidagos 2011 Avida…</td><td>&quot;Portugal&quot;</td><td>&quot;This is ripe and fruity, a win…</td><td>&quot;Portuguese Red&quot;</td><td>87</td><td>15.0</td><td>null</td><td>&quot;Roger Voss&quot;</td><td>&quot;@vossroger&quot;</td></tr><tr><td>2</td><td>&quot;Rainstorm 2013 Pinot Gris (Wil…</td><td>&quot;US&quot;</td><td>&quot;Tart and snappy, the flavors o…</td><td>&quot;Pinot Gris&quot;</td><td>87</td><td>14.0</td><td>&quot;Willamette Valley&quot;</td><td>&quot;Paul Gregutt&quot;</td><td>&quot;@paulgwine &quot;</td></tr><tr><td>3</td><td>&quot;St. Julian 2013 Reserve Late H…</td><td>&quot;US&quot;</td><td>&quot;Pineapple rind, lemon pith and…</td><td>&quot;Riesling&quot;</td><td>87</td><td>13.0</td><td>&quot;Lake Michigan Shore&quot;</td><td>&quot;Alexander Peartree&quot;</td><td>null</td></tr><tr><td>4</td><td>&quot;Sweet Cheeks 2012 Vintner&#x27;s Re…</td><td>&quot;US&quot;</td><td>&quot;Much like the regular bottling…</td><td>&quot;Pinot Noir&quot;</td><td>87</td><td>65.0</td><td>&quot;Willamette Valley&quot;</td><td>&quot;Paul Gregutt&quot;</td><td>&quot;@paulgwine &quot;</td></tr></tbody></table></div>"
      ],
      "text/plain": [
       "shape: (5, 10)\n",
       "┌─────┬─────────────┬──────────┬─────────────┬───┬───────┬─────────────┬─────────────┬─────────────┐\n",
       "│ id  ┆ title       ┆ country  ┆ description ┆ … ┆ price ┆ region_1    ┆ taster_name ┆ taster_twit │\n",
       "│ --- ┆ ---         ┆ ---      ┆ ---         ┆   ┆ ---   ┆ ---         ┆ ---         ┆ ter_handle  │\n",
       "│ i64 ┆ str         ┆ str      ┆ str         ┆   ┆ f64   ┆ str         ┆ str         ┆ ---         │\n",
       "│     ┆             ┆          ┆             ┆   ┆       ┆             ┆             ┆ str         │\n",
       "╞═════╪═════════════╪══════════╪═════════════╪═══╪═══════╪═════════════╪═════════════╪═════════════╡\n",
       "│ 0   ┆ Nicosia     ┆ Italy    ┆ Aromas      ┆ … ┆ null  ┆ Etna        ┆ Kerin       ┆ @kerinokeef │\n",
       "│     ┆ 2013 Vulkà  ┆          ┆ include     ┆   ┆       ┆             ┆ O’Keefe     ┆ e           │\n",
       "│     ┆ Bianco      ┆          ┆ tropical    ┆   ┆       ┆             ┆             ┆             │\n",
       "│     ┆ (Et…        ┆          ┆ fruit,…     ┆   ┆       ┆             ┆             ┆             │\n",
       "│ 1   ┆ Quinta dos  ┆ Portugal ┆ This is     ┆ … ┆ 15.0  ┆ null        ┆ Roger Voss  ┆ @vossroger  │\n",
       "│     ┆ Avidagos    ┆          ┆ ripe and    ┆   ┆       ┆             ┆             ┆             │\n",
       "│     ┆ 2011 Avida… ┆          ┆ fruity, a   ┆   ┆       ┆             ┆             ┆             │\n",
       "│     ┆             ┆          ┆ win…        ┆   ┆       ┆             ┆             ┆             │\n",
       "│ 2   ┆ Rainstorm   ┆ US       ┆ Tart and    ┆ … ┆ 14.0  ┆ Willamette  ┆ Paul        ┆ @paulgwine  │\n",
       "│     ┆ 2013 Pinot  ┆          ┆ snappy, the ┆   ┆       ┆ Valley      ┆ Gregutt     ┆             │\n",
       "│     ┆ Gris (Wil…  ┆          ┆ flavors o…  ┆   ┆       ┆             ┆             ┆             │\n",
       "│ 3   ┆ St. Julian  ┆ US       ┆ Pineapple   ┆ … ┆ 13.0  ┆ Lake        ┆ Alexander   ┆ null        │\n",
       "│     ┆ 2013        ┆          ┆ rind, lemon ┆   ┆       ┆ Michigan    ┆ Peartree    ┆             │\n",
       "│     ┆ Reserve     ┆          ┆ pith and…   ┆   ┆       ┆ Shore       ┆             ┆             │\n",
       "│     ┆ Late H…     ┆          ┆             ┆   ┆       ┆             ┆             ┆             │\n",
       "│ 4   ┆ Sweet       ┆ US       ┆ Much like   ┆ … ┆ 65.0  ┆ Willamette  ┆ Paul        ┆ @paulgwine  │\n",
       "│     ┆ Cheeks 2012 ┆          ┆ the regular ┆   ┆       ┆ Valley      ┆ Gregutt     ┆             │\n",
       "│     ┆ Vintner's   ┆          ┆ bottling…   ┆   ┆       ┆             ┆             ┆             │\n",
       "│     ┆ Re…         ┆          ┆             ┆   ┆       ┆             ┆             ┆             │\n",
       "└─────┴─────────────┴──────────┴─────────────┴───┴───────┴─────────────┴─────────────┴─────────────┘"
      ]
     },
     "execution_count": 21,
     "metadata": {},
     "output_type": "execute_result"
    }
   ],
   "source": [
    "# We only want to keep the following columns\n",
    "wines = df.select([\n",
    "    \"id\",\n",
    "    \"title\",\n",
    "    \"country\",\n",
    "    \"description\",\n",
    "    \"variety\",\n",
    "    \"points\",\n",
    "    \"price\",\n",
    "    \"region_1\",\n",
    "    \"taster_name\",\n",
    "    \"taster_twitter_handle\",\n",
    "])\n",
    "wines.head()"
   ]
  },
  {
   "cell_type": "markdown",
   "metadata": {},
   "source": [
    "## Run SQL queries\n",
    "DuckDB is an embedded relational database that makes it very simple to analyze the data using SQL.\n",
    "Rather than writing out Python code in Pandas (and soon, Polars), we can directly scan the DataFrame\n",
    "using SQL queries in DuckDVB. Kùzu natively scans the underlying data structures (numpy or Arrow),\n",
    "making it easy to move between formats during graph construction."
   ]
  },
  {
   "cell_type": "markdown",
   "metadata": {},
   "source": [
    "The following query shows the countries with the most reviewed wines in this dataset."
   ]
  },
  {
   "cell_type": "code",
   "execution_count": 22,
   "metadata": {},
   "outputs": [
    {
     "data": {
      "text/plain": [
       "┌───────────┬───────┐\n",
       "│  country  │ count │\n",
       "│  varchar  │ int64 │\n",
       "├───────────┼───────┤\n",
       "│ US        │ 54504 │\n",
       "│ France    │ 22093 │\n",
       "│ Italy     │ 19540 │\n",
       "│ Spain     │  6645 │\n",
       "│ Portugal  │  5691 │\n",
       "│ Chile     │  4472 │\n",
       "│ Argentina │  3800 │\n",
       "│ Austria   │  3345 │\n",
       "│ Australia │  2329 │\n",
       "│ Germany   │  2165 │\n",
       "├───────────┴───────┤\n",
       "│      10 rows      │\n",
       "└───────────────────┘"
      ]
     },
     "execution_count": 22,
     "metadata": {},
     "output_type": "execute_result"
    }
   ],
   "source": [
    "import duckdb\n",
    "\n",
    "# Count number of wines by country and sort in descending order\n",
    "duckdb.sql(\n",
    "    \"\"\"\n",
    "    SELECT country, COUNT(*) AS count\n",
    "    FROM wines\n",
    "    GROUP BY country\n",
    "    ORDER BY count DESC\n",
    "    \"\"\"\n",
    ").limit(10)"
   ]
  },
  {
   "cell_type": "markdown",
   "metadata": {},
   "source": [
    "Say you're on a budget and want to find wines tasted by tasters with the lowest average price.\n",
    "The following query answers this."
   ]
  },
  {
   "cell_type": "code",
   "execution_count": 23,
   "metadata": {},
   "outputs": [
    {
     "data": {
      "text/plain": [
       "┌───────────────────────┬───────────────────┬────────────────────┐\n",
       "│ taster_twitter_handle │    taster_name    │     avg_price      │\n",
       "│        varchar        │      varchar      │       double       │\n",
       "├───────────────────────┼───────────────────┼────────────────────┤\n",
       "│ @worldwineguys        │ Jeff Jenssen      │ 22.234215885947048 │\n",
       "│ @suskostrzewa         │ Susan Kostrzewa   │ 22.908667287977632 │\n",
       "│ @laurbuzz             │ Lauren Buzzeo     │ 24.492702860478694 │\n",
       "│ @wineschach           │ Michael Schachner │  25.23115510668183 │\n",
       "│ @gordone_cellars      │ Jim Gordon        │ 26.935507072644448 │\n",
       "│ @worldwineguys        │ Mike DeSimone     │  28.16468253968254 │\n",
       "│ @winewchristina       │ Christina Pickard │ 29.333333333333332 │\n",
       "│ @bkfiona              │ Fiona Adams       │  31.14814814814815 │\n",
       "│ @AnneInVino           │ Anne Krebiehl MW  │ 31.230135373749263 │\n",
       "│ @paulgwine            │ Paul Gregutt      │ 33.644872604758895 │\n",
       "├───────────────────────┴───────────────────┴────────────────────┤\n",
       "│ 10 rows                                              3 columns │\n",
       "└────────────────────────────────────────────────────────────────┘"
      ]
     },
     "execution_count": 23,
     "metadata": {},
     "output_type": "execute_result"
    }
   ],
   "source": [
    "# Select the wine taster with the lowest average price of wines tasted\n",
    "duckdb.sql(\n",
    "    \"\"\"\n",
    "    SELECT taster_twitter_handle, taster_name, AVG(price) AS avg_price\n",
    "    FROM wines\n",
    "    WHERE taster_twitter_handle IS NOT NULL\n",
    "    GROUP BY taster_twitter_handle, taster_name\n",
    "    ORDER BY avg_price\n",
    "    \"\"\"\n",
    ").limit(10)"
   ]
  },
  {
   "cell_type": "markdown",
   "metadata": {},
   "source": [
    "## Load the data into Kùzu\n",
    "\n",
    "Kùzu is an embedded graph database that allows you to model your data as a graph when it makes sense\n",
    "to do so. In the following example, we will model the data as a simple graph that captures the\n",
    "following paths:\n",
    "\n",
    "```\n",
    "(:Taster)-[:Tastes]->(w:Wine)-[:IsFrom]->(:Country)\n",
    "```\n",
    "\n",
    "Kùzu is a disk-based GDBMS, so the data is persisted to disk and can be queried using Cypher, a\n",
    "declarative query language reminiscent of SQL. Additionally, Kùzu's data model can be thought of as\n",
    "a _structured_ property graph model, so we first need to instantiate a Kùzu database and\n",
    "provide a schema for the graph."
   ]
  },
  {
   "cell_type": "code",
   "execution_count": 24,
   "metadata": {},
   "outputs": [],
   "source": [
    "import shutil\n",
    "\n",
    "import kuzu\n",
    "\n",
    "# Start with an empty database by specifying a path and a database name\n",
    "shutil.rmtree(\"db/kuzudb\", ignore_errors=True)\n",
    "db = kuzu.Database(\"db/kuzudb\")\n",
    "kuzu_conn = kuzu.Connection(db)"
   ]
  },
  {
   "cell_type": "markdown",
   "metadata": {},
   "source": [
    "### Schema definition\n",
    "The first step is to provide node and edge tables with strong types so that Kùzu knows beforehand\n",
    "what data to expect."
   ]
  },
  {
   "cell_type": "code",
   "execution_count": 25,
   "metadata": {},
   "outputs": [
    {
     "data": {
      "text/plain": [
       "<kuzu.query_result.QueryResult at 0x3344a4250>"
      ]
     },
     "execution_count": 25,
     "metadata": {},
     "output_type": "execute_result"
    }
   ],
   "source": [
    "# Create wine node table\n",
    "kuzu_conn.execute(\n",
    "    \"\"\"\n",
    "    CREATE NODE TABLE \n",
    "        Wine(\n",
    "            id INT64,\n",
    "            title STRING,\n",
    "            description STRING,\n",
    "            variety STRING,\n",
    "            points INT64,\n",
    "            price DOUBLE,\n",
    "            region_1 STRING,\n",
    "            PRIMARY KEY (id)\n",
    "        )\n",
    "    \"\"\"\n",
    ")\n",
    "\n",
    "# Create Taster node table\n",
    "kuzu_conn.execute(\n",
    "    \"\"\"\n",
    "    CREATE NODE TABLE \n",
    "        Taster(\n",
    "            taster_name STRING,\n",
    "            taster_twitter_handle STRING,\n",
    "            PRIMARY KEY (taster_name)\n",
    "        )\n",
    "    \"\"\"\n",
    ")\n",
    "\n",
    "# Create Country node table\n",
    "kuzu_conn.execute(\n",
    "    \"\"\"\n",
    "    CREATE NODE TABLE \n",
    "        Country(\n",
    "            country STRING,\n",
    "            PRIMARY KEY (country)\n",
    "        )\n",
    "    \"\"\"\n",
    ")"
   ]
  },
  {
   "cell_type": "markdown",
   "metadata": {},
   "source": [
    "We also need to define relationship tables that reference the node tables' primary keys. The first\n",
    "and second columns of a relationship table are always the `FROM` and `TO` primary key values."
   ]
  },
  {
   "cell_type": "code",
   "execution_count": 26,
   "metadata": {},
   "outputs": [
    {
     "data": {
      "text/plain": [
       "<kuzu.query_result.QueryResult at 0x1110b4c50>"
      ]
     },
     "execution_count": 26,
     "metadata": {},
     "output_type": "execute_result"
    }
   ],
   "source": [
    "# Create `Tastes` relationship table\n",
    "kuzu_conn.execute(\"CREATE REL TABLE Tastes(FROM Taster TO Wine)\")\n",
    "kuzu_conn.execute(\"CREATE REL TABLE IsFrom(FROM Wine TO Country)\")"
   ]
  },
  {
   "cell_type": "markdown",
   "metadata": {},
   "source": [
    "### Scan data from desired column\n",
    "The following two cells only **scan** the data from the source, they do not insert it into the graph yet."
   ]
  },
  {
   "cell_type": "code",
   "execution_count": 27,
   "metadata": {},
   "outputs": [
    {
     "data": {
      "text/html": [
       "<div><style>\n",
       ".dataframe > thead > tr,\n",
       ".dataframe > tbody > tr {\n",
       "  text-align: right;\n",
       "  white-space: pre-wrap;\n",
       "}\n",
       "</style>\n",
       "<small>shape: (129_971, 7)</small><table border=\"1\" class=\"dataframe\"><thead><tr><th>id</th><th>title</th><th>description</th><th>variety</th><th>points</th><th>price</th><th>region_1</th></tr><tr><td>i64</td><td>str</td><td>str</td><td>str</td><td>i64</td><td>f64</td><td>str</td></tr></thead><tbody><tr><td>0</td><td>&quot;Nicosia 2013 Vulkà Bianco  (Et…</td><td>&quot;Aromas include tropical fruit,…</td><td>&quot;White Blend&quot;</td><td>87</td><td>null</td><td>&quot;Etna&quot;</td></tr><tr><td>1</td><td>&quot;Quinta dos Avidagos 2011 Avida…</td><td>&quot;This is ripe and fruity, a win…</td><td>&quot;Portuguese Red&quot;</td><td>87</td><td>15.0</td><td>null</td></tr><tr><td>2</td><td>&quot;Rainstorm 2013 Pinot Gris (Wil…</td><td>&quot;Tart and snappy, the flavors o…</td><td>&quot;Pinot Gris&quot;</td><td>87</td><td>14.0</td><td>&quot;Willamette Valley&quot;</td></tr><tr><td>3</td><td>&quot;St. Julian 2013 Reserve Late H…</td><td>&quot;Pineapple rind, lemon pith and…</td><td>&quot;Riesling&quot;</td><td>87</td><td>13.0</td><td>&quot;Lake Michigan Shore&quot;</td></tr><tr><td>4</td><td>&quot;Sweet Cheeks 2012 Vintner&#x27;s Re…</td><td>&quot;Much like the regular bottling…</td><td>&quot;Pinot Noir&quot;</td><td>87</td><td>65.0</td><td>&quot;Willamette Valley&quot;</td></tr><tr><td>&hellip;</td><td>&hellip;</td><td>&hellip;</td><td>&hellip;</td><td>&hellip;</td><td>&hellip;</td><td>&hellip;</td></tr><tr><td>129966</td><td>&quot;Dr. H. Thanisch (Erben Müller-…</td><td>&quot;Notes of honeysuckle and canta…</td><td>&quot;Riesling&quot;</td><td>90</td><td>28.0</td><td>null</td></tr><tr><td>129967</td><td>&quot;Citation 2004 Pinot Noir (Oreg…</td><td>&quot;Citation is given as much as a…</td><td>&quot;Pinot Noir&quot;</td><td>90</td><td>75.0</td><td>&quot;Oregon&quot;</td></tr><tr><td>129968</td><td>&quot;Domaine Gresser 2013 Kritt Gew…</td><td>&quot;Well-drained gravel soil gives…</td><td>&quot;Gewürztraminer&quot;</td><td>90</td><td>30.0</td><td>&quot;Alsace&quot;</td></tr><tr><td>129969</td><td>&quot;Domaine Marcel Deiss 2012 Pino…</td><td>&quot;A dry style of Pinot Gris, thi…</td><td>&quot;Pinot Gris&quot;</td><td>90</td><td>32.0</td><td>&quot;Alsace&quot;</td></tr><tr><td>129970</td><td>&quot;Domaine Schoffit 2012 Lieu-dit…</td><td>&quot;Big, rich and off-dry, this is…</td><td>&quot;Gewürztraminer&quot;</td><td>90</td><td>21.0</td><td>&quot;Alsace&quot;</td></tr></tbody></table></div>"
      ],
      "text/plain": [
       "shape: (129_971, 7)\n",
       "┌────────┬──────────────────┬──────────────────┬────────────────┬────────┬───────┬─────────────────┐\n",
       "│ id     ┆ title            ┆ description      ┆ variety        ┆ points ┆ price ┆ region_1        │\n",
       "│ ---    ┆ ---              ┆ ---              ┆ ---            ┆ ---    ┆ ---   ┆ ---             │\n",
       "│ i64    ┆ str              ┆ str              ┆ str            ┆ i64    ┆ f64   ┆ str             │\n",
       "╞════════╪══════════════════╪══════════════════╪════════════════╪════════╪═══════╪═════════════════╡\n",
       "│ 0      ┆ Nicosia 2013     ┆ Aromas include   ┆ White Blend    ┆ 87     ┆ null  ┆ Etna            │\n",
       "│        ┆ Vulkà Bianco     ┆ tropical fruit,… ┆                ┆        ┆       ┆                 │\n",
       "│        ┆ (Et…             ┆                  ┆                ┆        ┆       ┆                 │\n",
       "│ 1      ┆ Quinta dos       ┆ This is ripe and ┆ Portuguese Red ┆ 87     ┆ 15.0  ┆ null            │\n",
       "│        ┆ Avidagos 2011    ┆ fruity, a win…   ┆                ┆        ┆       ┆                 │\n",
       "│        ┆ Avida…           ┆                  ┆                ┆        ┆       ┆                 │\n",
       "│ 2      ┆ Rainstorm 2013   ┆ Tart and snappy, ┆ Pinot Gris     ┆ 87     ┆ 14.0  ┆ Willamette      │\n",
       "│        ┆ Pinot Gris (Wil… ┆ the flavors o…   ┆                ┆        ┆       ┆ Valley          │\n",
       "│ 3      ┆ St. Julian 2013  ┆ Pineapple rind,  ┆ Riesling       ┆ 87     ┆ 13.0  ┆ Lake Michigan   │\n",
       "│        ┆ Reserve Late H…  ┆ lemon pith and…  ┆                ┆        ┆       ┆ Shore           │\n",
       "│ 4      ┆ Sweet Cheeks     ┆ Much like the    ┆ Pinot Noir     ┆ 87     ┆ 65.0  ┆ Willamette      │\n",
       "│        ┆ 2012 Vintner's   ┆ regular          ┆                ┆        ┆       ┆ Valley          │\n",
       "│        ┆ Re…              ┆ bottling…        ┆                ┆        ┆       ┆                 │\n",
       "│ …      ┆ …                ┆ …                ┆ …              ┆ …      ┆ …     ┆ …               │\n",
       "│ 129966 ┆ Dr. H. Thanisch  ┆ Notes of         ┆ Riesling       ┆ 90     ┆ 28.0  ┆ null            │\n",
       "│        ┆ (Erben Müller-…  ┆ honeysuckle and  ┆                ┆        ┆       ┆                 │\n",
       "│        ┆                  ┆ canta…           ┆                ┆        ┆       ┆                 │\n",
       "│ 129967 ┆ Citation 2004    ┆ Citation is      ┆ Pinot Noir     ┆ 90     ┆ 75.0  ┆ Oregon          │\n",
       "│        ┆ Pinot Noir       ┆ given as much as ┆                ┆        ┆       ┆                 │\n",
       "│        ┆ (Oreg…           ┆ a…               ┆                ┆        ┆       ┆                 │\n",
       "│ 129968 ┆ Domaine Gresser  ┆ Well-drained     ┆ Gewürztraminer ┆ 90     ┆ 30.0  ┆ Alsace          │\n",
       "│        ┆ 2013 Kritt Gew…  ┆ gravel soil      ┆                ┆        ┆       ┆                 │\n",
       "│        ┆                  ┆ gives…           ┆                ┆        ┆       ┆                 │\n",
       "│ 129969 ┆ Domaine Marcel   ┆ A dry style of   ┆ Pinot Gris     ┆ 90     ┆ 32.0  ┆ Alsace          │\n",
       "│        ┆ Deiss 2012 Pino… ┆ Pinot Gris, thi… ┆                ┆        ┆       ┆                 │\n",
       "│ 129970 ┆ Domaine Schoffit ┆ Big, rich and    ┆ Gewürztraminer ┆ 90     ┆ 21.0  ┆ Alsace          │\n",
       "│        ┆ 2012 Lieu-dit…   ┆ off-dry, this    ┆                ┆        ┆       ┆                 │\n",
       "│        ┆                  ┆ is…              ┆                ┆        ┆       ┆                 │\n",
       "└────────┴──────────────────┴──────────────────┴────────────────┴────────┴───────┴─────────────────┘"
      ]
     },
     "execution_count": 27,
     "metadata": {},
     "output_type": "execute_result"
    }
   ],
   "source": [
    "kuzu_conn.execute(\n",
    "    \"\"\"\n",
    "    LOAD FROM 'final/winemag-reviews.parquet' RETURN\n",
    "        id,\n",
    "        title,\n",
    "        description,\n",
    "        variety,\n",
    "        points,\n",
    "        price,\n",
    "        region_1\n",
    "    \"\"\"\n",
    ").get_as_pl()"
   ]
  },
  {
   "cell_type": "code",
   "execution_count": 28,
   "metadata": {},
   "outputs": [
    {
     "data": {
      "text/html": [
       "<div><style>\n",
       ".dataframe > thead > tr,\n",
       ".dataframe > tbody > tr {\n",
       "  text-align: right;\n",
       "  white-space: pre-wrap;\n",
       "}\n",
       "</style>\n",
       "<small>shape: (129_971, 2)</small><table border=\"1\" class=\"dataframe\"><thead><tr><th>taster_name</th><th>taster_twitter_handle</th></tr><tr><td>str</td><td>str</td></tr></thead><tbody><tr><td>&quot;Kerin O’Keefe&quot;</td><td>&quot;@kerinokeefe&quot;</td></tr><tr><td>&quot;Roger Voss&quot;</td><td>&quot;@vossroger&quot;</td></tr><tr><td>&quot;Paul Gregutt&quot;</td><td>&quot;@paulgwine &quot;</td></tr><tr><td>&quot;Alexander Peartree&quot;</td><td>null</td></tr><tr><td>&quot;Paul Gregutt&quot;</td><td>&quot;@paulgwine &quot;</td></tr><tr><td>&hellip;</td><td>&hellip;</td></tr><tr><td>&quot;Anna Lee C. Iijima&quot;</td><td>null</td></tr><tr><td>&quot;Paul Gregutt&quot;</td><td>&quot;@paulgwine &quot;</td></tr><tr><td>&quot;Roger Voss&quot;</td><td>&quot;@vossroger&quot;</td></tr><tr><td>&quot;Roger Voss&quot;</td><td>&quot;@vossroger&quot;</td></tr><tr><td>&quot;Roger Voss&quot;</td><td>&quot;@vossroger&quot;</td></tr></tbody></table></div>"
      ],
      "text/plain": [
       "shape: (129_971, 2)\n",
       "┌────────────────────┬───────────────────────┐\n",
       "│ taster_name        ┆ taster_twitter_handle │\n",
       "│ ---                ┆ ---                   │\n",
       "│ str                ┆ str                   │\n",
       "╞════════════════════╪═══════════════════════╡\n",
       "│ Kerin O’Keefe      ┆ @kerinokeefe          │\n",
       "│ Roger Voss         ┆ @vossroger            │\n",
       "│ Paul Gregutt       ┆ @paulgwine            │\n",
       "│ Alexander Peartree ┆ null                  │\n",
       "│ Paul Gregutt       ┆ @paulgwine            │\n",
       "│ …                  ┆ …                     │\n",
       "│ Anna Lee C. Iijima ┆ null                  │\n",
       "│ Paul Gregutt       ┆ @paulgwine            │\n",
       "│ Roger Voss         ┆ @vossroger            │\n",
       "│ Roger Voss         ┆ @vossroger            │\n",
       "│ Roger Voss         ┆ @vossroger            │\n",
       "└────────────────────┴───────────────────────┘"
      ]
     },
     "execution_count": 28,
     "metadata": {},
     "output_type": "execute_result"
    }
   ],
   "source": [
    "kuzu_conn.execute(\n",
    "    \"\"\"\n",
    "    LOAD FROM 'final/winemag-reviews.parquet' RETURN\n",
    "        taster_name,\n",
    "        taster_twitter_handle\n",
    "    \"\"\"\n",
    ").get_as_pl()"
   ]
  },
  {
   "cell_type": "markdown",
   "metadata": {},
   "source": [
    "### Insert data into the graph\n",
    "Using the direct scanning functionality from existing data formats, we can insert the data into\n",
    "the node and rel tables. This is done by using the `COPY FROM` query in conjunction with the\n",
    "`LOAD FROM` subquery."
   ]
  },
  {
   "cell_type": "code",
   "execution_count": 29,
   "metadata": {},
   "outputs": [
    {
     "data": {
      "text/plain": [
       "<kuzu.query_result.QueryResult at 0x1110e3cd0>"
      ]
     },
     "execution_count": 29,
     "metadata": {},
     "output_type": "execute_result"
    }
   ],
   "source": [
    "# Insert wine data into Kùzu graph\n",
    "kuzu_conn.execute(\n",
    "    \"\"\"\n",
    "    COPY Wine FROM (\n",
    "        LOAD FROM 'final/winemag-reviews.parquet' RETURN\n",
    "            id,\n",
    "            title,\n",
    "            description,\n",
    "            variety,\n",
    "            points,\n",
    "            price,\n",
    "            region_1\n",
    "        )\n",
    "    \"\"\"\n",
    ")"
   ]
  },
  {
   "cell_type": "code",
   "execution_count": 30,
   "metadata": {},
   "outputs": [
    {
     "data": {
      "text/plain": [
       "<kuzu.query_result.QueryResult at 0x1110ad4d0>"
      ]
     },
     "execution_count": 30,
     "metadata": {},
     "output_type": "execute_result"
    }
   ],
   "source": [
    "# Insert Taster and Country data into Kùzu graph\n",
    "kuzu_conn.execute(\n",
    "    \"\"\"\n",
    "    COPY Taster FROM (\n",
    "        LOAD FROM 'final/winemag-reviews.parquet'\n",
    "            WHERE taster_name IS NOT NULL\n",
    "            RETURN DISTINCT\n",
    "                taster_name,\n",
    "                taster_twitter_handle\n",
    "        )\n",
    "    \"\"\"\n",
    ")\n",
    "\n",
    "kuzu_conn.execute(\n",
    "    \"\"\"\n",
    "    COPY Country FROM (\n",
    "        LOAD FROM 'final/winemag-reviews.parquet'\n",
    "            WHERE country IS NOT NULL\n",
    "            RETURN DISTINCT country\n",
    "        )\n",
    "    \"\"\"\n",
    ")"
   ]
  },
  {
   "cell_type": "code",
   "execution_count": 31,
   "metadata": {},
   "outputs": [
    {
     "data": {
      "text/plain": [
       "<kuzu.query_result.QueryResult at 0x11147fb50>"
      ]
     },
     "execution_count": 31,
     "metadata": {},
     "output_type": "execute_result"
    }
   ],
   "source": [
    "# Insert relationships by only selecting FROM and TO columns\n",
    "kuzu_conn.execute(\n",
    "    \"\"\"\n",
    "    COPY Tastes FROM (\n",
    "        LOAD FROM 'final/winemag-reviews.parquet'\n",
    "            WHERE taster_name IS NOT NULL\n",
    "            RETURN\n",
    "                taster_name,\n",
    "                id\n",
    "        )\n",
    "    \"\"\"\n",
    ")\n",
    "\n",
    "kuzu_conn.execute(\n",
    "    \"\"\"\n",
    "    COPY IsFrom FROM (\n",
    "        LOAD FROM 'final/winemag-reviews.parquet'\n",
    "            WHERE country IS NOT NULL\n",
    "            RETURN\n",
    "                id,\n",
    "                country\n",
    "        )\n",
    "    \"\"\"\n",
    ")"
   ]
  },
  {
   "cell_type": "markdown",
   "metadata": {},
   "source": [
    "## Next steps\n",
    "The data has been successfully loaded into Kùzu and can be queried using Cypher. The next steps would\n",
    "be to inspect the graph visually using [Kùzu Explorer](https://docs.kuzudb.com/visualization/), and\n",
    "to iterate on the data model.\n",
    "\n",
    "We can run a simple summarization query in Cypher to see the number of wines tasted by each taster."
   ]
  },
  {
   "cell_type": "code",
   "execution_count": 32,
   "metadata": {},
   "outputs": [
    {
     "data": {
      "text/html": [
       "<div><style>\n",
       ".dataframe > thead > tr,\n",
       ".dataframe > tbody > tr {\n",
       "  text-align: right;\n",
       "  white-space: pre-wrap;\n",
       "}\n",
       "</style>\n",
       "<small>shape: (5, 2)</small><table border=\"1\" class=\"dataframe\"><thead><tr><th>taster</th><th>numWinesTasted</th></tr><tr><td>str</td><td>i64</td></tr></thead><tbody><tr><td>&quot;Roger Voss&quot;</td><td>25514</td></tr><tr><td>&quot;Michael Schachner&quot;</td><td>15134</td></tr><tr><td>&quot;Kerin O’Keefe&quot;</td><td>10776</td></tr><tr><td>&quot;Virginie Boone&quot;</td><td>9537</td></tr><tr><td>&quot;Paul Gregutt&quot;</td><td>9532</td></tr></tbody></table></div>"
      ],
      "text/plain": [
       "shape: (5, 2)\n",
       "┌───────────────────┬────────────────┐\n",
       "│ taster            ┆ numWinesTasted │\n",
       "│ ---               ┆ ---            │\n",
       "│ str               ┆ i64            │\n",
       "╞═══════════════════╪════════════════╡\n",
       "│ Roger Voss        ┆ 25514          │\n",
       "│ Michael Schachner ┆ 15134          │\n",
       "│ Kerin O’Keefe     ┆ 10776          │\n",
       "│ Virginie Boone    ┆ 9537           │\n",
       "│ Paul Gregutt      ┆ 9532           │\n",
       "└───────────────────┴────────────────┘"
      ]
     },
     "execution_count": 32,
     "metadata": {},
     "output_type": "execute_result"
    }
   ],
   "source": [
    "kuzu_conn.execute(\n",
    "    \"\"\"\n",
    "    MATCH (t:Taster)-[:Tastes]->(w:Wine)\n",
    "    RETURN t.taster_name AS taster, count(w) AS numWinesTasted\n",
    "    ORDER BY count(w) DESC LIMIT 5\n",
    "    \"\"\"\n",
    ").get_as_pl()"
   ]
  }
 ],
 "metadata": {
  "kernelspec": {
   "display_name": ".venv",
   "language": "python",
   "name": "python3"
  },
  "language_info": {
   "codemirror_mode": {
    "name": "ipython",
    "version": 3
   },
   "file_extension": ".py",
   "mimetype": "text/x-python",
   "name": "python",
   "nbconvert_exporter": "python",
   "pygments_lexer": "ipython3",
   "version": "3.11.7"
  }
 },
 "nbformat": 4,
 "nbformat_minor": 2
}

{
 "cells": [
  {
   "cell_type": "markdown",
   "metadata": {},
   "source": [
    "# 1. Graph construction\n",
    "This notebook will cover how to construct a Kùzu graph using data obtained from multiple Parquet files. In\n",
    "this case,we use Parquet for reasons of simplicity, but the data could just as well have come from\n",
    "external databases, like DuckDB or PostgreSQL tables. See our documentation on [RDBMS extensions](https://docs.kuzudb.com/extensions/rdbms/)\n",
    "to achieve such integrations in your workflows."
   ]
  },
  {
   "cell_type": "markdown",
   "metadata": {},
   "source": [
    "## Create a database and start a connection\n",
    "We can start by creating an empty Kùzu database and opening a connection to it."
   ]
  },
  {
   "cell_type": "code",
   "execution_count": 1,
   "metadata": {},
   "outputs": [],
   "source": [
    "import shutil\n",
    "from pathlib import Path\n",
    "\n",
    "import kuzu\n",
    "import polars as pl\n",
    "\n",
    "Path.mkdir(Path(\"db\"), exist_ok=True)\n",
    "shutil.rmtree(\"db\", ignore_errors=True)\n",
    "db = kuzu.Database(\"db\")\n",
    "conn = kuzu.Connection(db)"
   ]
  },
  {
   "cell_type": "markdown",
   "metadata": {},
   "source": [
    "## Inspect the data\n",
    "\n",
    "We can scan the data to get a sense of the data we are working with."
   ]
  },
  {
   "cell_type": "code",
   "execution_count": 2,
   "metadata": {},
   "outputs": [
    {
     "data": {
      "text/html": [
       "<div><style>\n",
       ".dataframe > thead > tr,\n",
       ".dataframe > tbody > tr {\n",
       "  text-align: right;\n",
       "  white-space: pre-wrap;\n",
       "}\n",
       "</style>\n",
       "<small>shape: (5, 10)</small><table border=\"1\" class=\"dataframe\"><thead><tr><th>id</th><th>title</th><th>country</th><th>description</th><th>variety</th><th>points</th><th>price</th><th>region_1</th><th>taster_name</th><th>taster_twitter_handle</th></tr><tr><td>i64</td><td>str</td><td>str</td><td>str</td><td>str</td><td>i64</td><td>f64</td><td>str</td><td>str</td><td>str</td></tr></thead><tbody><tr><td>0</td><td>&quot;Nicosia 2013 Vulkà Bianco  (Et…</td><td>&quot;Italy&quot;</td><td>&quot;Aromas include tropical fruit,…</td><td>&quot;White Blend&quot;</td><td>87</td><td>null</td><td>&quot;Etna&quot;</td><td>&quot;Kerin O’Keefe&quot;</td><td>&quot;@kerinokeefe&quot;</td></tr><tr><td>1</td><td>&quot;Quinta dos Avidagos 2011 Avida…</td><td>&quot;Portugal&quot;</td><td>&quot;This is ripe and fruity, a win…</td><td>&quot;Portuguese Red&quot;</td><td>87</td><td>15.0</td><td>null</td><td>&quot;Roger Voss&quot;</td><td>&quot;@vossroger&quot;</td></tr><tr><td>2</td><td>&quot;Rainstorm 2013 Pinot Gris (Wil…</td><td>&quot;US&quot;</td><td>&quot;Tart and snappy, the flavors o…</td><td>&quot;Pinot Gris&quot;</td><td>87</td><td>14.0</td><td>&quot;Willamette Valley&quot;</td><td>&quot;Paul Gregutt&quot;</td><td>&quot;@paulgwine &quot;</td></tr><tr><td>3</td><td>&quot;St. Julian 2013 Reserve Late H…</td><td>&quot;US&quot;</td><td>&quot;Pineapple rind, lemon pith and…</td><td>&quot;Riesling&quot;</td><td>87</td><td>13.0</td><td>&quot;Lake Michigan Shore&quot;</td><td>&quot;Alexander Peartree&quot;</td><td>null</td></tr><tr><td>4</td><td>&quot;Sweet Cheeks 2012 Vintner&#x27;s Re…</td><td>&quot;US&quot;</td><td>&quot;Much like the regular bottling…</td><td>&quot;Pinot Noir&quot;</td><td>87</td><td>65.0</td><td>&quot;Willamette Valley&quot;</td><td>&quot;Paul Gregutt&quot;</td><td>&quot;@paulgwine &quot;</td></tr></tbody></table></div>"
      ],
      "text/plain": [
       "shape: (5, 10)\n",
       "┌─────┬─────────────┬──────────┬─────────────┬───┬───────┬─────────────┬─────────────┬─────────────┐\n",
       "│ id  ┆ title       ┆ country  ┆ description ┆ … ┆ price ┆ region_1    ┆ taster_name ┆ taster_twit │\n",
       "│ --- ┆ ---         ┆ ---      ┆ ---         ┆   ┆ ---   ┆ ---         ┆ ---         ┆ ter_handle  │\n",
       "│ i64 ┆ str         ┆ str      ┆ str         ┆   ┆ f64   ┆ str         ┆ str         ┆ ---         │\n",
       "│     ┆             ┆          ┆             ┆   ┆       ┆             ┆             ┆ str         │\n",
       "╞═════╪═════════════╪══════════╪═════════════╪═══╪═══════╪═════════════╪═════════════╪═════════════╡\n",
       "│ 0   ┆ Nicosia     ┆ Italy    ┆ Aromas      ┆ … ┆ null  ┆ Etna        ┆ Kerin       ┆ @kerinokeef │\n",
       "│     ┆ 2013 Vulkà  ┆          ┆ include     ┆   ┆       ┆             ┆ O’Keefe     ┆ e           │\n",
       "│     ┆ Bianco      ┆          ┆ tropical    ┆   ┆       ┆             ┆             ┆             │\n",
       "│     ┆ (Et…        ┆          ┆ fruit,…     ┆   ┆       ┆             ┆             ┆             │\n",
       "│ 1   ┆ Quinta dos  ┆ Portugal ┆ This is     ┆ … ┆ 15.0  ┆ null        ┆ Roger Voss  ┆ @vossroger  │\n",
       "│     ┆ Avidagos    ┆          ┆ ripe and    ┆   ┆       ┆             ┆             ┆             │\n",
       "│     ┆ 2011 Avida… ┆          ┆ fruity, a   ┆   ┆       ┆             ┆             ┆             │\n",
       "│     ┆             ┆          ┆ win…        ┆   ┆       ┆             ┆             ┆             │\n",
       "│ 2   ┆ Rainstorm   ┆ US       ┆ Tart and    ┆ … ┆ 14.0  ┆ Willamette  ┆ Paul        ┆ @paulgwine  │\n",
       "│     ┆ 2013 Pinot  ┆          ┆ snappy, the ┆   ┆       ┆ Valley      ┆ Gregutt     ┆             │\n",
       "│     ┆ Gris (Wil…  ┆          ┆ flavors o…  ┆   ┆       ┆             ┆             ┆             │\n",
       "│ 3   ┆ St. Julian  ┆ US       ┆ Pineapple   ┆ … ┆ 13.0  ┆ Lake        ┆ Alexander   ┆ null        │\n",
       "│     ┆ 2013        ┆          ┆ rind, lemon ┆   ┆       ┆ Michigan    ┆ Peartree    ┆             │\n",
       "│     ┆ Reserve     ┆          ┆ pith and…   ┆   ┆       ┆ Shore       ┆             ┆             │\n",
       "│     ┆ Late H…     ┆          ┆             ┆   ┆       ┆             ┆             ┆             │\n",
       "│ 4   ┆ Sweet       ┆ US       ┆ Much like   ┆ … ┆ 65.0  ┆ Willamette  ┆ Paul        ┆ @paulgwine  │\n",
       "│     ┆ Cheeks 2012 ┆          ┆ the regular ┆   ┆       ┆ Valley      ┆ Gregutt     ┆             │\n",
       "│     ┆ Vintner's   ┆          ┆ bottling…   ┆   ┆       ┆             ┆             ┆             │\n",
       "│     ┆ Re…         ┆          ┆             ┆   ┆       ┆             ┆             ┆             │\n",
       "└─────┴─────────────┴──────────┴─────────────┴───┴───────┴─────────────┴─────────────┴─────────────┘"
      ]
     },
     "execution_count": 2,
     "metadata": {},
     "output_type": "execute_result"
    }
   ],
   "source": [
    "DATA_PATH = \"./data/final\"\n",
    "df = conn.execute(f\"LOAD FROM '{DATA_PATH}/winemag-reviews.parquet' RETURN *\").get_as_pl()\n",
    "df.head()"
   ]
  },
  {
   "cell_type": "code",
   "execution_count": 3,
   "metadata": {},
   "outputs": [
    {
     "data": {
      "text/html": [
       "<div><style>\n",
       ".dataframe > thead > tr,\n",
       ".dataframe > tbody > tr {\n",
       "  text-align: right;\n",
       "  white-space: pre-wrap;\n",
       "}\n",
       "</style>\n",
       "<small>shape: (5, 3)</small><table border=\"1\" class=\"dataframe\"><thead><tr><th>country</th><th>variety</th><th>price</th></tr><tr><td>str</td><td>str</td><td>f64</td></tr></thead><tbody><tr><td>&quot;Ukraine&quot;</td><td>&quot;Rosé&quot;</td><td>6.0</td></tr><tr><td>&quot;Ukraine&quot;</td><td>&quot;Cabernet Sauvignon&quot;</td><td>6.0</td></tr><tr><td>&quot;Portugal&quot;</td><td>&quot;Trajadura&quot;</td><td>7.0</td></tr><tr><td>&quot;Chile&quot;</td><td>&quot;Moscato&quot;</td><td>7.0</td></tr><tr><td>&quot;Romania&quot;</td><td>&quot;Moscato&quot;</td><td>7.2</td></tr></tbody></table></div>"
      ],
      "text/plain": [
       "shape: (5, 3)\n",
       "┌──────────┬────────────────────┬───────┐\n",
       "│ country  ┆ variety            ┆ price │\n",
       "│ ---      ┆ ---                ┆ ---   │\n",
       "│ str      ┆ str                ┆ f64   │\n",
       "╞══════════╪════════════════════╪═══════╡\n",
       "│ Ukraine  ┆ Rosé               ┆ 6.0   │\n",
       "│ Ukraine  ┆ Cabernet Sauvignon ┆ 6.0   │\n",
       "│ Portugal ┆ Trajadura          ┆ 7.0   │\n",
       "│ Chile    ┆ Moscato            ┆ 7.0   │\n",
       "│ Romania  ┆ Moscato            ┆ 7.2   │\n",
       "└──────────┴────────────────────┴───────┘"
      ]
     },
     "execution_count": 3,
     "metadata": {},
     "output_type": "execute_result"
    }
   ],
   "source": [
    "(\n",
    "    df.group_by([\"country\", \"variety\"])\n",
    "    .agg(pl.mean(\"price\"))\n",
    "    .drop_nulls()\n",
    "    .sort(\"price\", descending=False)\n",
    ").head()"
   ]
  },
  {
   "cell_type": "code",
   "execution_count": 4,
   "metadata": {},
   "outputs": [],
   "source": [
    "import duckdb"
   ]
  },
  {
   "cell_type": "code",
   "execution_count": 5,
   "metadata": {},
   "outputs": [
    {
     "data": {
      "text/plain": [
       "┌──────────┬────────────────────┬───────────┐\n",
       "│ country  │      variety       │ avg_price │\n",
       "│ varchar  │      varchar       │  double   │\n",
       "├──────────┼────────────────────┼───────────┤\n",
       "│ Ukraine  │ Cabernet Sauvignon │       6.0 │\n",
       "│ Ukraine  │ Rosé               │       6.0 │\n",
       "│ NULL     │ Riesling           │       6.0 │\n",
       "│ Chile    │ Moscato            │       7.0 │\n",
       "│ Portugal │ Trajadura          │       7.0 │\n",
       "└──────────┴────────────────────┴───────────┘"
      ]
     },
     "execution_count": 5,
     "metadata": {},
     "output_type": "execute_result"
    }
   ],
   "source": [
    "tbl = duckdb.sql(\n",
    "    \"\"\"\n",
    "    SELECT country, variety, AVG(price) AS avg_price\n",
    "    FROM df\n",
    "    GROUP BY country, variety\n",
    "    ORDER BY avg_price ASC\n",
    "    LIMIT 5\n",
    "    \"\"\"\n",
    ")\n",
    "tbl"
   ]
  },
  {
   "cell_type": "markdown",
   "metadata": {},
   "source": [
    "## Graph data modeling\n",
    "\n",
    "The following raw data files are available in the `data/final/` directory. The data contains information\n",
    "about customers who purchased wines from the reviews dataset, follow reviewers, live in certain\n",
    "countries, and the original wine reviews from the previous section.\n",
    "\n",
    "```\n",
    ".\n",
    "├── final\n",
    "    ├── customers.parquet\n",
    "    ├── follows.parquet\n",
    "    ├── lives_in.parquet\n",
    "    ├── purchases.parquet\n",
    "    ├── tasted.parquet\n",
    "    ├── tasters.parquet\n",
    "    └── winemag-reviews.parquet\n",
    "```\n",
    "\n",
    "Some of these are structured as node files, with each column representing the node's properties.\n",
    "Others are structured as edge files, with the first and second columns representing the source (FROM)\n",
    "and target (TO) nodes, respectively. The files are shown here in Parquet format, but they could\n",
    "just as well have been sitting in a relational database or datalake.\n",
    "\n",
    "Our goal is to use this data to construct a graph with the following nodes and relationships:\n",
    "\n",
    "<img src=\"./assets/graph_schema_wines.png\" height=300/>"
   ]
  },
  {
   "cell_type": "markdown",
   "metadata": {},
   "source": [
    "We first define the graph schema by creating the nodes and relationships and their associated properties."
   ]
  },
  {
   "cell_type": "code",
   "execution_count": 6,
   "metadata": {},
   "outputs": [],
   "source": [
    "# Create customer node table\n",
    "def create_customer_node_table(conn: kuzu.Connection) -> None:\n",
    "    conn.execute(\n",
    "        \"\"\"\n",
    "        CREATE NODE TABLE\n",
    "            Customer(\n",
    "                customer_id INT64,\n",
    "                name STRING,\n",
    "                age INT64,\n",
    "                PRIMARY KEY (customer_id)\n",
    "            )\n",
    "        \"\"\"\n",
    "    )\n",
    "\n",
    "# Create taster node table\n",
    "def create_taster_node_table(conn: kuzu.Connection) -> None:\n",
    "    conn.execute(\n",
    "        \"\"\"\n",
    "        CREATE NODE TABLE\n",
    "            Taster(\n",
    "                taster_twitter_handle STRING,\n",
    "                taster_name STRING,\n",
    "                taster_id STRING,\n",
    "                PRIMARY KEY (taster_id)\n",
    "            )\n",
    "        \"\"\"\n",
    "    )\n",
    "\n",
    "# Create wine node table\n",
    "def create_wine_node_table(conn: kuzu.Connection) -> None:\n",
    "    conn.execute(\n",
    "        \"\"\"\n",
    "        CREATE NODE TABLE\n",
    "            Wine(\n",
    "                id INT64,\n",
    "                title STRING,\n",
    "                country STRING,\n",
    "                description STRING,\n",
    "                variety STRING,\n",
    "                points INT64,\n",
    "                price DOUBLE,\n",
    "                state STRING,\n",
    "                taster_name STRING,\n",
    "                taster_twitter_handle STRING,\n",
    "                PRIMARY KEY (id)\n",
    "            )\n",
    "        \"\"\"\n",
    "    )\n",
    "\n",
    "# Create country node table\n",
    "def create_country_node_table(conn: kuzu.Connection) -> None:\n",
    "    conn.execute(\n",
    "        \"\"\"\n",
    "        CREATE NODE TABLE\n",
    "            Country(\n",
    "                country STRING,\n",
    "                PRIMARY KEY (country)\n",
    "            )\n",
    "        \"\"\"\n",
    "    )"
   ]
  },
  {
   "cell_type": "code",
   "execution_count": 7,
   "metadata": {},
   "outputs": [],
   "source": [
    "# Run node table creation\n",
    "create_customer_node_table(conn)\n",
    "create_wine_node_table(conn)\n",
    "create_taster_node_table(conn)\n",
    "create_country_node_table(conn)"
   ]
  },
  {
   "cell_type": "markdown",
   "metadata": {},
   "source": [
    "## Insert data into the graph\n",
    "Once the tables are created, it's time to insert the data into the node and relationship tables.\n",
    "This is done without any for-loops in Python by using the `COPY` command in Cypher, which is \n",
    "the fastest way to bulk-insert data into a node or relationship table."
   ]
  },
  {
   "cell_type": "code",
   "execution_count": 8,
   "metadata": {},
   "outputs": [],
   "source": [
    "# Insert nodes into graph\n",
    "conn.execute(\"COPY Customer FROM 'data/final/customers.parquet'\");\n",
    "conn.execute(\"COPY Wine FROM 'data/final/winemag-reviews.parquet'\");\n",
    "conn.execute(\"COPY Taster FROM 'data/final/tasters.parquet'\");\n",
    "conn.execute(\"COPY Country FROM (LOAD FROM 'data/final/winemag-reviews.parquet' WHERE country IS NOT NULL RETURN DISTINCT country)\");"
   ]
  },
  {
   "cell_type": "code",
   "execution_count": 9,
   "metadata": {},
   "outputs": [
    {
     "data": {
      "text/html": [
       "<div><style>\n",
       ".dataframe > thead > tr,\n",
       ".dataframe > tbody > tr {\n",
       "  text-align: right;\n",
       "  white-space: pre-wrap;\n",
       "}\n",
       "</style>\n",
       "<small>shape: (1, 1)</small><table border=\"1\" class=\"dataframe\"><thead><tr><th>num_wines</th></tr><tr><td>i64</td></tr></thead><tbody><tr><td>129971</td></tr></tbody></table></div>"
      ],
      "text/plain": [
       "shape: (1, 1)\n",
       "┌───────────┐\n",
       "│ num_wines │\n",
       "│ ---       │\n",
       "│ i64       │\n",
       "╞═══════════╡\n",
       "│ 129971    │\n",
       "└───────────┘"
      ]
     },
     "execution_count": 9,
     "metadata": {},
     "output_type": "execute_result"
    }
   ],
   "source": [
    "# Check number of nodes\n",
    "conn.execute(\"MATCH (w:Wine) RETURN count(w) AS num_wines\").get_as_pl()"
   ]
  },
  {
   "cell_type": "code",
   "execution_count": 10,
   "metadata": {},
   "outputs": [
    {
     "data": {
      "text/html": [
       "<div><style>\n",
       ".dataframe > thead > tr,\n",
       ".dataframe > tbody > tr {\n",
       "  text-align: right;\n",
       "  white-space: pre-wrap;\n",
       "}\n",
       "</style>\n",
       "<small>shape: (1, 1)</small><table border=\"1\" class=\"dataframe\"><thead><tr><th>num_customers</th></tr><tr><td>i64</td></tr></thead><tbody><tr><td>25</td></tr></tbody></table></div>"
      ],
      "text/plain": [
       "shape: (1, 1)\n",
       "┌───────────────┐\n",
       "│ num_customers │\n",
       "│ ---           │\n",
       "│ i64           │\n",
       "╞═══════════════╡\n",
       "│ 25            │\n",
       "└───────────────┘"
      ]
     },
     "execution_count": 10,
     "metadata": {},
     "output_type": "execute_result"
    }
   ],
   "source": [
    "# Check number of customer nodes\n",
    "conn.execute(\"MATCH (c:Customer) RETURN count(c) AS num_customers\").get_as_pl()"
   ]
  },
  {
   "cell_type": "markdown",
   "metadata": {},
   "source": [
    "In a similar way, we can create relationship tables and insert the necessary data into them.\n",
    "Note that for the final relationship table, `IsFrom`, we can directly obtain the necessary information from the `winemag-reviews.parquet` file\n",
    "by running a predicate filter via the `LOAD FROM` subquery."
   ]
  },
  {
   "cell_type": "code",
   "execution_count": 11,
   "metadata": {},
   "outputs": [],
   "source": [
    "# Create relationship tables\n",
    "conn.execute(\"CREATE REL TABLE LivesIn(FROM Customer TO Country)\");\n",
    "conn.execute(\"CREATE REL TABLE Purchased(FROM Customer TO Wine)\");\n",
    "conn.execute(\"CREATE REL TABLE Follows(FROM Customer TO Taster)\");\n",
    "conn.execute(\"CREATE REL TABLE Tasted(FROM Taster TO Wine)\");\n",
    "conn.execute(\"CREATE REL TABLE IsFrom(FROM Wine TO Country)\");\n",
    "\n",
    "# Insert relationships into graph\n",
    "conn.execute(\"COPY LivesIn FROM 'data/final/lives_in.parquet'\");\n",
    "conn.execute(\"COPY Purchased FROM 'data/final/purchases.parquet'\");\n",
    "conn.execute(\"COPY Follows FROM 'data/final/follows.parquet'\");\n",
    "conn.execute(\"COPY Tasted FROM 'data/final/tasted.parquet'\");\n",
    "conn.execute(\"COPY IsFrom FROM (LOAD FROM 'data/final/winemag-reviews.parquet' WHERE country IS NOT NULL RETURN id, country)\");"
   ]
  },
  {
   "cell_type": "markdown",
   "metadata": {},
   "source": [
    "## Query graph\n",
    "We can now run some queries that ask questions of the connected data."
   ]
  },
  {
   "cell_type": "code",
   "execution_count": 12,
   "metadata": {},
   "outputs": [
    {
     "data": {
      "text/html": [
       "<div><style>\n",
       ".dataframe > thead > tr,\n",
       ".dataframe > tbody > tr {\n",
       "  text-align: right;\n",
       "  white-space: pre-wrap;\n",
       "}\n",
       "</style>\n",
       "<small>shape: (1, 1)</small><table border=\"1\" class=\"dataframe\"><thead><tr><th>num_customers</th></tr><tr><td>i64</td></tr></thead><tbody><tr><td>4</td></tr></tbody></table></div>"
      ],
      "text/plain": [
       "shape: (1, 1)\n",
       "┌───────────────┐\n",
       "│ num_customers │\n",
       "│ ---           │\n",
       "│ i64           │\n",
       "╞═══════════════╡\n",
       "│ 4             │\n",
       "└───────────────┘"
      ]
     },
     "execution_count": 12,
     "metadata": {},
     "output_type": "execute_result"
    }
   ],
   "source": [
    "# Number of customers who purchased wines reviewed by a particular reviewer\n",
    "conn.execute(\n",
    "    \"\"\"\n",
    "    MATCH (c:Customer)-[p:Purchased]->(w:Wine)<-[t:Tasted]-(r:Taster)\n",
    "    WHERE r.taster_name = \"Kerin O’Keefe\"\n",
    "    RETURN count(*) AS num_customers\n",
    "    \"\"\"\n",
    ").get_as_pl()"
   ]
  },
  {
   "cell_type": "code",
   "execution_count": 13,
   "metadata": {},
   "outputs": [
    {
     "data": {
      "text/html": [
       "<div><style>\n",
       ".dataframe > thead > tr,\n",
       ".dataframe > tbody > tr {\n",
       "  text-align: right;\n",
       "  white-space: pre-wrap;\n",
       "}\n",
       "</style>\n",
       "<small>shape: (3, 2)</small><table border=\"1\" class=\"dataframe\"><thead><tr><th>t.taster_name</th><th>num_reviews</th></tr><tr><td>str</td><td>i64</td></tr></thead><tbody><tr><td>&quot;Roger Voss&quot;</td><td>25514</td></tr><tr><td>&quot;Michael Schachner&quot;</td><td>15134</td></tr><tr><td>&quot;Kerin O’Keefe&quot;</td><td>10776</td></tr></tbody></table></div>"
      ],
      "text/plain": [
       "shape: (3, 2)\n",
       "┌───────────────────┬─────────────┐\n",
       "│ t.taster_name     ┆ num_reviews │\n",
       "│ ---               ┆ ---         │\n",
       "│ str               ┆ i64         │\n",
       "╞═══════════════════╪═════════════╡\n",
       "│ Roger Voss        ┆ 25514       │\n",
       "│ Michael Schachner ┆ 15134       │\n",
       "│ Kerin O’Keefe     ┆ 10776       │\n",
       "└───────────────────┴─────────────┘"
      ]
     },
     "execution_count": 13,
     "metadata": {},
     "output_type": "execute_result"
    }
   ],
   "source": [
    "# Write a query to find the top 3 reviewers who reviewed the most wines\n",
    "conn.execute(\n",
    "    \"\"\"\n",
    "    MATCH (t:Taster)-[r:Tasted]->(w:Wine)\n",
    "    RETURN t.taster_name, count(r) AS num_reviews\n",
    "    ORDER BY num_reviews DESC LIMIT 3\n",
    "    \"\"\"\n",
    ").get_as_pl()"
   ]
  },
  {
   "cell_type": "markdown",
   "metadata": {},
   "source": [
    "## Visualize the graph schema\n",
    "We can also inspect the graph visually using [Kùzu Explorer](https://docs.kuzudb.com/visualization/)\n",
    "and run more complex queries to answer questions on customer-taster-wine relationships.\n",
    "\n",
    "Use the provided compose file to start the Kùzu Explorer in Docker and connect to the database.\n",
    "\n",
    "```bash\n",
    "docker compose up\n",
    "```"
   ]
  }
 ],
 "metadata": {
  "kernelspec": {
   "display_name": "mindstone",
   "language": "python",
   "name": "mindstone"
  },
  "language_info": {
   "codemirror_mode": {
    "name": "ipython",
    "version": 3
   },
   "file_extension": ".py",
   "mimetype": "text/x-python",
   "name": "python",
   "nbconvert_exporter": "python",
   "pygments_lexer": "ipython3",
   "version": "3.12.4"
  }
 },
 "nbformat": 4,
 "nbformat_minor": 2
}

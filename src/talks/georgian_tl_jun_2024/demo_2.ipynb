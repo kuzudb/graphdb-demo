{
 "cells": [
  {
   "cell_type": "markdown",
   "metadata": {},
   "source": [
    "# Part 2: Graph construction\n",
    "This demo will cover how to construct a Kùzu graph using data obtained from multiple files. For\n",
    "simplicity, we'll use Parquet files, but the data could come from external sources too, like\n",
    "DuckDB or PostgreSQL tables. See the documentation on [Kùzu extensions](https://docs.kuzudb.com/extensions/)\n",
    "to achieve integration with external DBs.\n",
    "\n",
    "We can start by creating an empty Kùzu database and opening a connection to it."
   ]
  },
  {
   "cell_type": "code",
   "execution_count": 1,
   "metadata": {},
   "outputs": [],
   "source": [
    "import shutil\n",
    "from pathlib import Path\n",
    "\n",
    "import kuzu\n",
    "\n",
    "Path.mkdir(Path(\"db/\"), exist_ok=True)\n",
    "shutil.rmtree(\"db/kuzudb\", ignore_errors=True)\n",
    "db = kuzu.Database(\"db/kuzudb\")\n",
    "kuzu_conn = kuzu.Connection(db)"
   ]
  },
  {
   "cell_type": "markdown",
   "metadata": {},
   "source": [
    "### Data modeling\n",
    "\n",
    "The following raw data files are available in the `data/final/` directory. The data contains information\n",
    "about customers who purchased wines from the reviews dataset, follow reviewers, live in certain\n",
    "countries, and the original wine reviews from the previous section.\n",
    "\n",
    "```\n",
    ".\n",
    "├── final\n",
    "    ├── customers.parquet\n",
    "    ├── follows.parquet\n",
    "    ├── lives_in.parquet\n",
    "    ├── purchases.parquet\n",
    "    ├── tasted.parquet\n",
    "    ├── tasters.parquet\n",
    "    └── winemag-reviews.parquet\n",
    "```\n",
    "\n",
    "Some of these are structured as node files, with each column representing the node's properties.\n",
    "Others are structured as edge files, with the first and second columns representing the source (FROM)\n",
    "and target (TO) nodes, respectively. The files are shown here in Parquet format, but they could\n",
    "just as well have been sitting in a relational database or datalake.\n",
    "\n",
    "Our goal is to use this data to construct a graph with the following nodes and relationships:\n",
    "\n",
    "<img src=\"./assets/graph_schema_wines.png\" height=300/>"
   ]
  },
  {
   "cell_type": "markdown",
   "metadata": {},
   "source": [
    "We first define the graph schema by creating the nodes and relationships and their associated properties."
   ]
  },
  {
   "cell_type": "code",
   "execution_count": 2,
   "metadata": {},
   "outputs": [],
   "source": [
    "# Create customer node table\n",
    "def create_customer_node_table(conn: kuzu.Connection) -> None:\n",
    "    conn.execute(\n",
    "        \"\"\"\n",
    "        CREATE NODE TABLE\n",
    "            Customer(\n",
    "                customer_id INT64,\n",
    "                name STRING,\n",
    "                age INT64,\n",
    "                PRIMARY KEY (customer_id)\n",
    "            )\n",
    "        \"\"\"\n",
    "    )\n",
    "\n",
    "# Create taster node table\n",
    "def create_taster_node_table(conn: kuzu.Connection) -> None:\n",
    "    conn.execute(\n",
    "        \"\"\"\n",
    "        CREATE NODE TABLE\n",
    "            Taster(\n",
    "                taster_twitter_handle STRING,\n",
    "                taster_name STRING,\n",
    "                taster_id STRING,\n",
    "                PRIMARY KEY (taster_id)\n",
    "            )\n",
    "        \"\"\"\n",
    "    )\n",
    "\n",
    "# Create wine node table\n",
    "def create_wine_node_table(conn: kuzu.Connection) -> None:\n",
    "    conn.execute(\n",
    "        \"\"\"\n",
    "        CREATE NODE TABLE\n",
    "            Wine(\n",
    "                id INT64,\n",
    "                title STRING,\n",
    "                country STRING,\n",
    "                description STRING,\n",
    "                variety STRING,\n",
    "                points INT64,\n",
    "                price DOUBLE,\n",
    "                state STRING,\n",
    "                taster_name STRING,\n",
    "                taster_twitter_handle STRING,\n",
    "                PRIMARY KEY (id)\n",
    "            )\n",
    "        \"\"\"\n",
    "    )\n",
    "\n",
    "# Create country node table\n",
    "def create_country_node_table(conn: kuzu.Connection) -> None:\n",
    "    conn.execute(\n",
    "        \"\"\"\n",
    "        CREATE NODE TABLE\n",
    "            Country(\n",
    "                country STRING,\n",
    "                PRIMARY KEY (country)\n",
    "            )\n",
    "        \"\"\"\n",
    "    )"
   ]
  },
  {
   "cell_type": "code",
   "execution_count": 3,
   "metadata": {},
   "outputs": [],
   "source": [
    "# Run node table creation\n",
    "create_customer_node_table(kuzu_conn)\n",
    "create_wine_node_table(kuzu_conn)\n",
    "create_taster_node_table(kuzu_conn)\n",
    "create_country_node_table(kuzu_conn)"
   ]
  },
  {
   "cell_type": "markdown",
   "metadata": {},
   "source": [
    "## Insert data into the graph\n",
    "Once the tables are created, it's time to insert the data into the node and relationship tables.\n",
    "This is done without any for-loops in Python by using the `COPY` command in Cypher, which is \n",
    "the fastest way to bulk-insert data into a node or relationship table."
   ]
  },
  {
   "cell_type": "code",
   "execution_count": 4,
   "metadata": {},
   "outputs": [],
   "source": [
    "# Insert nodes into graph\n",
    "kuzu_conn.execute(\"COPY Customer FROM 'data/final/customers.parquet'\");\n",
    "kuzu_conn.execute(\"COPY Wine FROM 'data/final/winemag-reviews.parquet'\");\n",
    "kuzu_conn.execute(\"COPY Taster FROM 'data/final/tasters.parquet'\");\n",
    "kuzu_conn.execute(\"COPY Country FROM (LOAD FROM 'data/final/winemag-reviews.parquet' WHERE country IS NOT NULL RETURN DISTINCT country)\");"
   ]
  },
  {
   "cell_type": "code",
   "execution_count": 5,
   "metadata": {},
   "outputs": [
    {
     "data": {
      "text/html": [
       "<div><style>\n",
       ".dataframe > thead > tr,\n",
       ".dataframe > tbody > tr {\n",
       "  text-align: right;\n",
       "  white-space: pre-wrap;\n",
       "}\n",
       "</style>\n",
       "<small>shape: (1, 1)</small><table border=\"1\" class=\"dataframe\"><thead><tr><th>num_wines</th></tr><tr><td>i64</td></tr></thead><tbody><tr><td>129971</td></tr></tbody></table></div>"
      ],
      "text/plain": [
       "shape: (1, 1)\n",
       "┌───────────┐\n",
       "│ num_wines │\n",
       "│ ---       │\n",
       "│ i64       │\n",
       "╞═══════════╡\n",
       "│ 129971    │\n",
       "└───────────┘"
      ]
     },
     "execution_count": 5,
     "metadata": {},
     "output_type": "execute_result"
    }
   ],
   "source": [
    "# Check number of nodes\n",
    "kuzu_conn.execute(\"MATCH (w:Wine) RETURN count(w) AS num_wines\").get_as_pl()"
   ]
  },
  {
   "cell_type": "code",
   "execution_count": 6,
   "metadata": {},
   "outputs": [
    {
     "data": {
      "text/html": [
       "<div><style>\n",
       ".dataframe > thead > tr,\n",
       ".dataframe > tbody > tr {\n",
       "  text-align: right;\n",
       "  white-space: pre-wrap;\n",
       "}\n",
       "</style>\n",
       "<small>shape: (1, 1)</small><table border=\"1\" class=\"dataframe\"><thead><tr><th>num_customers</th></tr><tr><td>i64</td></tr></thead><tbody><tr><td>25</td></tr></tbody></table></div>"
      ],
      "text/plain": [
       "shape: (1, 1)\n",
       "┌───────────────┐\n",
       "│ num_customers │\n",
       "│ ---           │\n",
       "│ i64           │\n",
       "╞═══════════════╡\n",
       "│ 25            │\n",
       "└───────────────┘"
      ]
     },
     "execution_count": 6,
     "metadata": {},
     "output_type": "execute_result"
    }
   ],
   "source": [
    "# Check number of customer nodes\n",
    "kuzu_conn.execute(\"MATCH (c:Customer) RETURN count(c) AS num_customers\").get_as_pl()"
   ]
  },
  {
   "cell_type": "markdown",
   "metadata": {},
   "source": [
    "In a similar way, we can create relationship tables and insert the necessary data into them.\n",
    "Note that for the final relationship table, `IsFrom`, we can directly obtain the necessary information from the `winemag-reviews.parquet` file\n",
    "by running a predicate filter via the `LOAD FROM` subquery."
   ]
  },
  {
   "cell_type": "code",
   "execution_count": 7,
   "metadata": {},
   "outputs": [],
   "source": [
    "# Create relationship tables\n",
    "kuzu_conn.execute(\"CREATE REL TABLE LivesIn(FROM Customer TO Country)\");\n",
    "kuzu_conn.execute(\"CREATE REL TABLE Purchased(FROM Customer TO Wine)\");\n",
    "kuzu_conn.execute(\"CREATE REL TABLE Follows(FROM Customer TO Taster)\");\n",
    "kuzu_conn.execute(\"CREATE REL TABLE Tasted(FROM Taster TO Wine)\");\n",
    "kuzu_conn.execute(\"CREATE REL TABLE IsFrom(FROM Wine TO Country)\");\n",
    "\n",
    "# Insert relationships into graph\n",
    "kuzu_conn.execute(\"COPY LivesIn FROM 'data/final/lives_in.parquet'\");\n",
    "kuzu_conn.execute(\"COPY Purchased FROM 'data/final/purchases.parquet'\");\n",
    "kuzu_conn.execute(\"COPY Follows FROM 'data/final/follows.parquet'\");\n",
    "kuzu_conn.execute(\"COPY Tasted FROM 'data/final/tasted.parquet'\");\n",
    "kuzu_conn.execute(\"COPY IsFrom FROM (LOAD FROM 'data/final/winemag-reviews.parquet' WHERE country IS NOT NULL RETURN id, country)\");"
   ]
  },
  {
   "cell_type": "markdown",
   "metadata": {},
   "source": [
    "## Query graph\n",
    "We can now run some queries that ask questions of the connected data."
   ]
  },
  {
   "cell_type": "code",
   "execution_count": 8,
   "metadata": {},
   "outputs": [
    {
     "data": {
      "text/html": [
       "<div><style>\n",
       ".dataframe > thead > tr,\n",
       ".dataframe > tbody > tr {\n",
       "  text-align: right;\n",
       "  white-space: pre-wrap;\n",
       "}\n",
       "</style>\n",
       "<small>shape: (1, 1)</small><table border=\"1\" class=\"dataframe\"><thead><tr><th>num_customers</th></tr><tr><td>i64</td></tr></thead><tbody><tr><td>10</td></tr></tbody></table></div>"
      ],
      "text/plain": [
       "shape: (1, 1)\n",
       "┌───────────────┐\n",
       "│ num_customers │\n",
       "│ ---           │\n",
       "│ i64           │\n",
       "╞═══════════════╡\n",
       "│ 10            │\n",
       "└───────────────┘"
      ]
     },
     "execution_count": 8,
     "metadata": {},
     "output_type": "execute_result"
    }
   ],
   "source": [
    "# Number of customers who purchased wines reviewed by Roger Voss\n",
    "kuzu_conn.execute(\n",
    "    \"\"\"\n",
    "    MATCH (c:Customer)-[p:Purchased]->(w:Wine)<-[t:Tasted]-(r:Taster)\n",
    "    WHERE r.taster_name = \"Roger Voss\"\n",
    "    RETURN count(*) AS num_customers\n",
    "    \"\"\"\n",
    ").get_as_pl()"
   ]
  },
  {
   "cell_type": "markdown",
   "metadata": {},
   "source": [
    "## Visualize the graph schema\n",
    "We can also inspect the graph visually using [Kùzu Explorer](https://docs.kuzudb.com/visualization/)\n",
    "and run more complex queries to answer questions on customer-taster-wine relationships.\n",
    "\n",
    "Use the provided compose file to start the Kùzu Explorer in Docker and connect to the database.\n",
    "\n",
    "```bash\n",
    "docker compose up\n",
    "```"
   ]
  }
 ],
 "metadata": {
  "kernelspec": {
   "display_name": ".venv",
   "language": "python",
   "name": "python3"
  },
  "language_info": {
   "codemirror_mode": {
    "name": "ipython",
    "version": 3
   },
   "file_extension": ".py",
   "mimetype": "text/x-python",
   "name": "python",
   "nbconvert_exporter": "python",
   "pygments_lexer": "ipython3",
   "version": "3.11.7"
  }
 },
 "nbformat": 4,
 "nbformat_minor": 2
}

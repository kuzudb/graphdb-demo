{
 "cells": [
  {
   "cell_type": "markdown",
   "metadata": {},
   "source": [
    "# 3. Graph analytics and machine learning\n",
    "This notebook will go through hwo to apply common graph analytics algorithms to your graph data using\n",
    "NetworkX. In an upcoming version of Kùzu (0.5.0 and beyond), we will be releasing an algorithms package\n",
    "that allow you to run some of these algorithms from within Kùzu without having to resort to NetworkX.\n",
    "\n",
    "However, because NetworkX is a very mature library, it has an extensive list of graph algorithms that\n",
    "may not be available in Kùzu, so it's still useful to know how to use it alongside Kùzu."
   ]
  },
  {
   "cell_type": "markdown",
   "metadata": {},
   "source": [
    "## Create a database and start a connection\n",
    "We can start by creating an empty Kùzu database and opening a connection to it."
   ]
  },
  {
   "cell_type": "code",
   "execution_count": 2,
   "metadata": {},
   "outputs": [],
   "source": [
    "import kuzu\n",
    "import pandas as pd\n",
    "import networkx as nx\n",
    "\n",
    "db = kuzu.Database(\"db\")\n",
    "conn = kuzu.Connection(db)"
   ]
  },
  {
   "cell_type": "code",
   "execution_count": 3,
   "metadata": {},
   "outputs": [],
   "source": [
    "res = conn.execute('MATCH (c:Customer)-[p:Purchased]->(w:Wine)<-[t:Tasted]-(ts:Taster) RETURN *')\n",
    "G = res.get_as_networkx(directed=False)"
   ]
  },
  {
   "cell_type": "code",
   "execution_count": 4,
   "metadata": {},
   "outputs": [],
   "source": [
    "pageranks = nx.pagerank(G)"
   ]
  },
  {
   "cell_type": "code",
   "execution_count": 5,
   "metadata": {},
   "outputs": [
    {
     "data": {
      "text/html": [
       "<div>\n",
       "<style scoped>\n",
       "    .dataframe tbody tr th:only-of-type {\n",
       "        vertical-align: middle;\n",
       "    }\n",
       "\n",
       "    .dataframe tbody tr th {\n",
       "        vertical-align: top;\n",
       "    }\n",
       "\n",
       "    .dataframe thead th {\n",
       "        text-align: right;\n",
       "    }\n",
       "</style>\n",
       "<table border=\"1\" class=\"dataframe\">\n",
       "  <thead>\n",
       "    <tr style=\"text-align: right;\">\n",
       "      <th></th>\n",
       "      <th>id</th>\n",
       "      <th>pagerank</th>\n",
       "    </tr>\n",
       "  </thead>\n",
       "  <tbody>\n",
       "    <tr>\n",
       "      <th>0</th>\n",
       "      <td>jim_gordon</td>\n",
       "      <td>0.016046</td>\n",
       "    </tr>\n",
       "    <tr>\n",
       "      <th>1</th>\n",
       "      <td>kerin_o_keefe</td>\n",
       "      <td>0.042609</td>\n",
       "    </tr>\n",
       "    <tr>\n",
       "      <th>2</th>\n",
       "      <td>virginie_boone</td>\n",
       "      <td>0.016046</td>\n",
       "    </tr>\n",
       "    <tr>\n",
       "      <th>3</th>\n",
       "      <td>paul_gregutt</td>\n",
       "      <td>0.024901</td>\n",
       "    </tr>\n",
       "    <tr>\n",
       "      <th>4</th>\n",
       "      <td>matt_kettmann</td>\n",
       "      <td>0.033755</td>\n",
       "    </tr>\n",
       "  </tbody>\n",
       "</table>\n",
       "</div>"
      ],
      "text/plain": [
       "               id  pagerank\n",
       "0      jim_gordon  0.016046\n",
       "1   kerin_o_keefe  0.042609\n",
       "2  virginie_boone  0.016046\n",
       "3    paul_gregutt  0.024901\n",
       "4   matt_kettmann  0.033755"
      ]
     },
     "execution_count": 5,
     "metadata": {},
     "output_type": "execute_result"
    }
   ],
   "source": [
    "pagerank_df = pd.DataFrame.from_dict(pageranks, orient=\"index\", columns=[\"pagerank\"])\n",
    "taster_df = pagerank_df[pagerank_df.index.str.contains(\"Taster\")]\n",
    "taster_df.index = taster_df.index.str.replace(\"Taster_\", \"\")\n",
    "taster_df = taster_df.reset_index(names=[\"id\"])\n",
    "taster_df.head()"
   ]
  },
  {
   "cell_type": "code",
   "execution_count": 6,
   "metadata": {},
   "outputs": [],
   "source": [
    "try:\n",
    "  # Alter original node table schemas to add pageranks\n",
    "  conn.execute(\"ALTER TABLE Taster ADD pagerank DOUBLE DEFAULT 0.0;\")\n",
    "except RuntimeError:\n",
    "  # If the column already exists, do nothing\n",
    "  pass"
   ]
  },
  {
   "cell_type": "code",
   "execution_count": 7,
   "metadata": {},
   "outputs": [
    {
     "data": {
      "text/html": [
       "<div>\n",
       "<style scoped>\n",
       "    .dataframe tbody tr th:only-of-type {\n",
       "        vertical-align: middle;\n",
       "    }\n",
       "\n",
       "    .dataframe tbody tr th {\n",
       "        vertical-align: top;\n",
       "    }\n",
       "\n",
       "    .dataframe thead th {\n",
       "        text-align: right;\n",
       "    }\n",
       "</style>\n",
       "<table border=\"1\" class=\"dataframe\">\n",
       "  <thead>\n",
       "    <tr style=\"text-align: right;\">\n",
       "      <th></th>\n",
       "      <th>taster_id</th>\n",
       "      <th>pagerank</th>\n",
       "    </tr>\n",
       "  </thead>\n",
       "  <tbody>\n",
       "    <tr>\n",
       "      <th>0</th>\n",
       "      <td>roger_voss</td>\n",
       "      <td>0.095734</td>\n",
       "    </tr>\n",
       "    <tr>\n",
       "      <th>1</th>\n",
       "      <td>kerin_o_keefe</td>\n",
       "      <td>0.042609</td>\n",
       "    </tr>\n",
       "    <tr>\n",
       "      <th>2</th>\n",
       "      <td>matt_kettmann</td>\n",
       "      <td>0.033755</td>\n",
       "    </tr>\n",
       "    <tr>\n",
       "      <th>3</th>\n",
       "      <td>paul_gregutt</td>\n",
       "      <td>0.024901</td>\n",
       "    </tr>\n",
       "    <tr>\n",
       "      <th>4</th>\n",
       "      <td>jim_gordon</td>\n",
       "      <td>0.016046</td>\n",
       "    </tr>\n",
       "    <tr>\n",
       "      <th>5</th>\n",
       "      <td>virginie_boone</td>\n",
       "      <td>0.016046</td>\n",
       "    </tr>\n",
       "  </tbody>\n",
       "</table>\n",
       "</div>"
      ],
      "text/plain": [
       "        taster_id  pagerank\n",
       "0      roger_voss  0.095734\n",
       "1   kerin_o_keefe  0.042609\n",
       "2   matt_kettmann  0.033755\n",
       "3    paul_gregutt  0.024901\n",
       "4      jim_gordon  0.016046\n",
       "5  virginie_boone  0.016046"
      ]
     },
     "execution_count": 7,
     "metadata": {},
     "output_type": "execute_result"
    }
   ],
   "source": [
    "# Copy pagerank values to Taster nodes\n",
    "x = conn.execute(\n",
    "  \"\"\"\n",
    "  LOAD FROM taster_df\n",
    "  MERGE (ts:Taster {taster_id: id})\n",
    "  ON MATCH SET ts.pagerank = pagerank\n",
    "  RETURN ts.taster_id AS taster_id, ts.pagerank AS pagerank\n",
    "  ORDER BY ts.pagerank DESC\n",
    "  \"\"\"\n",
    ")\n",
    "x.get_as_df()\n"
   ]
  },
  {
   "cell_type": "markdown",
   "metadata": {},
   "source": [
    "As can be seen, Roger Voss is the most influential taster in the network, with the highest Pagerank score. This makes sense intuitively, because from the first notebook (where we saw that he'd tasted more than 25,000 wines), he has the most indirect connections to customers who bought wines tasted by him."
   ]
  },
  {
   "cell_type": "markdown",
   "metadata": {},
   "source": [
    "## Graph machine learning\n",
    "\n",
    "Next, we'll look at how to use Kùzu as the backend for PyTorch Geometric, a popular library for graph machine learning. We'll extract the graph data from Kùzu and organize it into a `feature_store` and the `graph_store` objects, which provide their respective data to PyTorch Geometric for downstream tasks. Once you have these two objects, you can proceed with your PyTorch Geometric workflow as you would with any other dataset."
   ]
  },
  {
   "cell_type": "code",
   "execution_count": 8,
   "metadata": {},
   "outputs": [],
   "source": [
    "feature_store, graph_store = db.get_torch_geometric_remote_backend()"
   ]
  },
  {
   "cell_type": "markdown",
   "metadata": {},
   "source": [
    "The feature store stores the node properties, while the graph store stores the edges and their properties."
   ]
  },
  {
   "cell_type": "code",
   "execution_count": 9,
   "metadata": {},
   "outputs": [
    {
     "data": {
      "text/plain": [
       "[TensorAttr(group_name='Taster', attr_name='pagerank', index=<_FieldStatus.UNSET: None>),\n",
       " TensorAttr(group_name='Wine', attr_name='id', index=<_FieldStatus.UNSET: None>),\n",
       " TensorAttr(group_name='Wine', attr_name='points', index=<_FieldStatus.UNSET: None>),\n",
       " TensorAttr(group_name='Wine', attr_name='price', index=<_FieldStatus.UNSET: None>),\n",
       " TensorAttr(group_name='Customer', attr_name='customer_id', index=<_FieldStatus.UNSET: None>),\n",
       " TensorAttr(group_name='Customer', attr_name='age', index=<_FieldStatus.UNSET: None>)]"
      ]
     },
     "execution_count": 9,
     "metadata": {},
     "output_type": "execute_result"
    }
   ],
   "source": [
    "feature_store.get_all_tensor_attrs()"
   ]
  },
  {
   "cell_type": "markdown",
   "metadata": {},
   "source": [
    "You can access the properties within each node as tensors, as follows."
   ]
  },
  {
   "cell_type": "code",
   "execution_count": 10,
   "metadata": {},
   "outputs": [
    {
     "data": {
      "text/plain": [
       "tensor([66, 34, 51, 30, 34, 38, 60, 61, 24, 49, 49, 27, 56, 62, 21, 38, 62, 36,\n",
       "        26, 49, 62, 29, 42, 43, 22])"
      ]
     },
     "execution_count": 10,
     "metadata": {},
     "output_type": "execute_result"
    }
   ],
   "source": [
    "feature_store.get_tensor(\"Customer\", \"age\", None)"
   ]
  },
  {
   "cell_type": "markdown",
   "metadata": {},
   "source": [
    "To see the edge indices that are stored in the graph store, you can inspect the edge attributes as follows."
   ]
  },
  {
   "cell_type": "code",
   "execution_count": 11,
   "metadata": {},
   "outputs": [
    {
     "data": {
      "text/plain": [
       "[EdgeAttr(edge_type=('Wine', 'IsFrom', 'Country'), layout=<EdgeLayout.COO: 'coo'>, is_sorted=True, size=(129971, 43)),\n",
       " EdgeAttr(edge_type=('Customer', 'Follows', 'Taster'), layout=<EdgeLayout.COO: 'coo'>, is_sorted=True, size=(25, 19)),\n",
       " EdgeAttr(edge_type=('Customer', 'LivesIn', 'Country'), layout=<EdgeLayout.COO: 'coo'>, is_sorted=True, size=(25, 43)),\n",
       " EdgeAttr(edge_type=('Customer', 'Purchased', 'Wine'), layout=<EdgeLayout.COO: 'coo'>, is_sorted=True, size=(25, 129971)),\n",
       " EdgeAttr(edge_type=('Taster', 'Tasted', 'Wine'), layout=<EdgeLayout.COO: 'coo'>, is_sorted=True, size=(19, 129971))]"
      ]
     },
     "execution_count": 11,
     "metadata": {},
     "output_type": "execute_result"
    }
   ],
   "source": [
    "graph_store.get_all_edge_attrs()"
   ]
  },
  {
   "cell_type": "code",
   "execution_count": 12,
   "metadata": {},
   "outputs": [
    {
     "data": {
      "text/plain": [
       "tensor([[    11,      2,     18,     24,     14,     15,     21,     10,     16,\n",
       "             22,      1,      4,     12,      9,      5,      0,     20,      7,\n",
       "             17,     23,      8,      6,      3,     19,     13],\n",
       "        [  4645,  12006,  14136,  36952,  48395,  57375,  59880,  67504,  69208,\n",
       "          78730,  79659,  80978,  82711,  83155,  87219,  89391,  89515,  97885,\n",
       "         103430, 104272, 109386, 110352, 122593, 128779, 128939]])"
      ]
     },
     "execution_count": 12,
     "metadata": {},
     "output_type": "execute_result"
    }
   ],
   "source": [
    "graph_store.get_edge_index(edge_type=('Customer', 'Purchased', 'Wine'), layout='coo')"
   ]
  },
  {
   "cell_type": "markdown",
   "metadata": {},
   "source": [
    "Once you have the `feature_store` and `graph_store` objects available, you can use them as datasets in PyTorch Geometric. In a few lines of code, Kùzu can function as your go-to backend for graph machine learning tasks!"
   ]
  },
  {
   "cell_type": "markdown",
   "metadata": {},
   "source": [
    "## Further reading and examples\n",
    "\n",
    "See our [documentation page](https://docs.kuzudb.com/tutorials/#python) for tutorials and notebooks on using Kùzu with PyTorch Geometric for node/link prediction\n",
    "and how to set up a model train/test workflow."
   ]
  }
 ],
 "metadata": {
  "kernelspec": {
   "display_name": "mindstone",
   "language": "python",
   "name": "mindstone"
  },
  "language_info": {
   "codemirror_mode": {
    "name": "ipython",
    "version": 3
   },
   "file_extension": ".py",
   "mimetype": "text/x-python",
   "name": "python",
   "nbconvert_exporter": "python",
   "pygments_lexer": "ipython3",
   "version": "3.12.4"
  }
 },
 "nbformat": 4,
 "nbformat_minor": 2
}
